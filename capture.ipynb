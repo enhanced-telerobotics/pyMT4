{
 "cells": [
  {
   "cell_type": "code",
   "execution_count": 1,
   "metadata": {},
   "outputs": [],
   "source": [
    "from pyMT4 import MTC\n",
    "from pyMT4.structure import mtFrameType, mtDecimation, mtBitDepth"
   ]
  },
  {
   "cell_type": "code",
   "execution_count": null,
   "metadata": {},
   "outputs": [],
   "source": [
    "mtc = MTC()"
   ]
  },
  {
   "cell_type": "code",
   "execution_count": 3,
   "metadata": {},
   "outputs": [],
   "source": [
    "data = mtc.get_poses()"
   ]
  },
  {
   "cell_type": "code",
   "execution_count": 9,
   "metadata": {},
   "outputs": [],
   "source": [
    "import numpy as np"
   ]
  },
  {
   "cell_type": "code",
   "execution_count": 13,
   "metadata": {},
   "outputs": [],
   "source": [
    "def convert_ndarray_to_list(data):\n",
    "    \"\"\"\n",
    "    Recursively convert all numpy arrays in the data to lists.\n",
    "    Handles dictionaries, lists, and numpy arrays.\n",
    "    \"\"\"\n",
    "    if isinstance(data, dict):\n",
    "        return {key: convert_ndarray_to_list(value) for key, value in data.items()}\n",
    "    elif isinstance(data, list):\n",
    "        return [convert_ndarray_to_list(element) for element in data]\n",
    "    elif isinstance(data, np.ndarray):\n",
    "        return data.tolist()\n",
    "    else:\n",
    "        return data"
   ]
  },
  {
   "cell_type": "code",
   "execution_count": 14,
   "metadata": {},
   "outputs": [],
   "source": [
    "data = convert_ndarray_to_list(data)"
   ]
  },
  {
   "cell_type": "code",
   "execution_count": null,
   "metadata": {},
   "outputs": [],
   "source": [
    "print(f\"Number: {mtc.get_camera_count()}\\n\\\n",
    "Resolution: {mtc.get_camera_resolution()}\\n\\\n",
    "SN: {mtc.get_serial_number()}\")"
   ]
  },
  {
   "cell_type": "code",
   "execution_count": 4,
   "metadata": {},
   "outputs": [],
   "source": [
    "mtc.set_streaming_mode(serial_number=mtc.get_serial_number(),\n",
    "                       frame_type=mtFrameType.Alternating,\n",
    "                       decimation=mtDecimation.Dec41,\n",
    "                       # Switch to 12-bits for accelerate\n",
    "                       bit_depth=mtBitDepth.Bpp12)"
   ]
  },
  {
   "cell_type": "code",
   "execution_count": 4,
   "metadata": {},
   "outputs": [],
   "source": [
    "# Warm up\n",
    "for i in range(10):\n",
    "    mtc.get_poses()"
   ]
  },
  {
   "cell_type": "code",
   "execution_count": null,
   "metadata": {},
   "outputs": [],
   "source": [
    "%timeit mtc.get_poses()"
   ]
  }
 ],
 "metadata": {
  "kernelspec": {
   "display_name": "base",
   "language": "python",
   "name": "python3"
  },
  "language_info": {
   "codemirror_mode": {
    "name": "ipython",
    "version": 3
   },
   "file_extension": ".py",
   "mimetype": "text/x-python",
   "name": "python",
   "nbconvert_exporter": "python",
   "pygments_lexer": "ipython3",
   "version": "3.10.14"
  }
 },
 "nbformat": 4,
 "nbformat_minor": 2
}
